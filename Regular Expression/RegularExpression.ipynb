{
 "cells": [
  {
   "cell_type": "markdown",
   "metadata": {},
   "source": [
    "Note : https://www.evernote.com/l/AgEj5SO0nQhBxI9-6PeToebaix6Wb6_yshA/"
   ]
  },
  {
   "cell_type": "markdown",
   "metadata": {},
   "source": [
    "Python has a built-in package called re, which can be used to work with Regular Expressions\n",
    "\n",
    "Ref : https://www.w3schools.com/python/python_regex.asp"
   ]
  },
  {
   "cell_type": "code",
   "execution_count": 2,
   "metadata": {},
   "outputs": [],
   "source": [
    "import re"
   ]
  },
  {
   "cell_type": "markdown",
   "metadata": {},
   "source": [
    "Search the string to see if it starts with \"The\" and ends with \"Spain\":"
   ]
  },
  {
   "cell_type": "code",
   "execution_count": 11,
   "metadata": {},
   "outputs": [
    {
     "name": "stdout",
     "output_type": "stream",
     "text": [
      "YES! We have a match!\n"
     ]
    }
   ],
   "source": [
    "txt = \"The rain in Spain\"\n",
    "x = re.search(\"^The.*Spain$\", txt)\n",
    "\n",
    "if (x):\n",
    "  print(\"YES! We have a match!\")\n",
    "else:\n",
    "  print(\"No match\")"
   ]
  },
  {
   "cell_type": "markdown",
   "metadata": {},
   "source": [
    "RegEx Functions\n",
    "The re module offers a set of functions that allows us to search a string for a match:"
   ]
  },
  {
   "cell_type": "markdown",
   "metadata": {},
   "source": [
    "The findall() Function\n",
    "The findall() function returns a list containing all matches."
   ]
  },
  {
   "cell_type": "code",
   "execution_count": 12,
   "metadata": {},
   "outputs": [
    {
     "name": "stdout",
     "output_type": "stream",
     "text": [
      "['ai', 'ai']\n"
     ]
    }
   ],
   "source": [
    "# Print a list of all matches: findall()\n",
    "\n",
    "str = \"The rain in Spain\"\n",
    "x = re.findall(\"ai\", str)\n",
    "\n",
    "print(x)"
   ]
  },
  {
   "cell_type": "markdown",
   "metadata": {},
   "source": [
    "The search() Function\n",
    "The search() function searches the string for a match, and returns a Match object if there is a match.\n",
    "\n",
    "If there is more than one match, only the first occurrence of the match will be returned:"
   ]
  },
  {
   "cell_type": "code",
   "execution_count": 7,
   "metadata": {},
   "outputs": [
    {
     "name": "stdout",
     "output_type": "stream",
     "text": [
      "The first white-space character is located in position: 3\n"
     ]
    }
   ],
   "source": [
    "#Search for the first white-space character in the string:\n",
    "\n",
    "str = \"The rain in Spain\"\n",
    "x = re.search(\"\\s\", str)\n",
    "\n",
    "print(\"The first white-space character is located in position:\", x.start())"
   ]
  },
  {
   "cell_type": "markdown",
   "metadata": {},
   "source": [
    "The split() Function\n",
    "The split() function returns a list where the string has been split at each match:"
   ]
  },
  {
   "cell_type": "code",
   "execution_count": 13,
   "metadata": {},
   "outputs": [
    {
     "name": "stdout",
     "output_type": "stream",
     "text": [
      "['The', 'rain', 'in', 'Spain']\n"
     ]
    }
   ],
   "source": [
    "#Split at each white-space character:\n",
    "str = \"The rain in Spain\"\n",
    "x = re.split(\"\\s\", str)\n",
    "print(x)"
   ]
  },
  {
   "cell_type": "code",
   "execution_count": 14,
   "metadata": {},
   "outputs": [
    {
     "name": "stdout",
     "output_type": "stream",
     "text": [
      "['The', 'rain in Spain']\n"
     ]
    }
   ],
   "source": [
    "#Split the string only at the first occurrence:\n",
    "str = \"The rain in Spain\"\n",
    "x = re.split(\"\\s\", str, 1)\n",
    "print(x)"
   ]
  },
  {
   "cell_type": "markdown",
   "metadata": {},
   "source": [
    "The sub() Function\n",
    "The sub() function replaces the matches with the text of your choice:"
   ]
  },
  {
   "cell_type": "code",
   "execution_count": 11,
   "metadata": {},
   "outputs": [
    {
     "name": "stdout",
     "output_type": "stream",
     "text": [
      "The9rain9in9Spain\n"
     ]
    }
   ],
   "source": [
    "#Replace every white-space character with the number 9:\n",
    "str = \"The rain in Spain\"\n",
    "x = re.sub(\"\\s\", \"9\", str)\n",
    "print(x)"
   ]
  },
  {
   "cell_type": "code",
   "execution_count": 12,
   "metadata": {},
   "outputs": [
    {
     "name": "stdout",
     "output_type": "stream",
     "text": [
      "The9rain9in Spain\n"
     ]
    }
   ],
   "source": [
    "#You can control the number of replacements by specifying the count parameter:\n",
    "str = \"The rain in Spain\"\n",
    "x = re.sub(\"\\s\", \"9\", str, 2)\n",
    "print(x)"
   ]
  },
  {
   "cell_type": "markdown",
   "metadata": {},
   "source": [
    "Match Object\n",
    "A Match Object is an object containing information about the search and the result."
   ]
  },
  {
   "cell_type": "code",
   "execution_count": 13,
   "metadata": {},
   "outputs": [
    {
     "name": "stdout",
     "output_type": "stream",
     "text": [
      "<re.Match object; span=(5, 7), match='ai'>\n"
     ]
    }
   ],
   "source": [
    "str = \"The rain in Spain\"\n",
    "x = re.search(\"ai\", str)\n",
    "print(x) #this will print an object"
   ]
  },
  {
   "cell_type": "markdown",
   "metadata": {},
   "source": [
    "The Match object has properties and methods used to retrieve information about the search, and the result:\n",
    "\n",
    ".span() returns a tuple containing the start-, and end positions of the match.\n",
    ".string returns the string passed into the function\n",
    ".group() returns the part of the string where there was a match"
   ]
  },
  {
   "cell_type": "code",
   "execution_count": 15,
   "metadata": {},
   "outputs": [
    {
     "name": "stdout",
     "output_type": "stream",
     "text": [
      "(12, 17)\n"
     ]
    }
   ],
   "source": [
    "#Print the position (start- and end-position) of the first match occurrence.\n",
    "str = \"The rain in Spain\"\n",
    "x = re.search(r\"\\bS\\w+\", str)\n",
    "print(x.span())"
   ]
  },
  {
   "cell_type": "code",
   "execution_count": 16,
   "metadata": {},
   "outputs": [
    {
     "name": "stdout",
     "output_type": "stream",
     "text": [
      "The rain in Spain\n"
     ]
    }
   ],
   "source": [
    "#Print the string passed into the function:\n",
    "    \n",
    "str = \"The rain in Spain\"\n",
    "x = re.search(r\"\\bS\\w+\", str)\n",
    "print(x.string)"
   ]
  },
  {
   "cell_type": "code",
   "execution_count": 17,
   "metadata": {},
   "outputs": [
    {
     "name": "stdout",
     "output_type": "stream",
     "text": [
      "Spain\n"
     ]
    }
   ],
   "source": [
    "#Print the part of the string where there was a match.\n",
    "\n",
    "str = \"The rain in Spain\"\n",
    "x = re.search(r\"\\bS\\w+\", str)\n",
    "print(x.group())"
   ]
  },
  {
   "cell_type": "code",
   "execution_count": null,
   "metadata": {},
   "outputs": [],
   "source": []
  }
 ],
 "metadata": {
  "kernelspec": {
   "display_name": "Python 3",
   "language": "python",
   "name": "python3"
  },
  "language_info": {
   "codemirror_mode": {
    "name": "ipython",
    "version": 3
   },
   "file_extension": ".py",
   "mimetype": "text/x-python",
   "name": "python",
   "nbconvert_exporter": "python",
   "pygments_lexer": "ipython3",
   "version": "3.7.5"
  }
 },
 "nbformat": 4,
 "nbformat_minor": 2
}
