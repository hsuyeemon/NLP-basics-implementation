{
 "cells": [
  {
   "cell_type": "markdown",
   "metadata": {},
   "source": [
    "<h3> Spelling Checker by Levenshtein Distance Algorithm For Myanmar Words</h3>\n",
    "The syllable segmentation done using regular expression (Reference : Sayar Ye Kyaw Thu . Sylbreak <u><i>https://github.com/ye-kyaw-thu/sylbreak</i></u><br>\n",
    "distance ကို <b>syllable</b> level မှာတွက်ထားပါတယ် <br>\n",
    "Costs : Addition = 1, Delection = 1, Substitution = 1 <br>\n",
    "<b>Example :</b><br>\n",
    "word level မှာ ကျောင်းသား နဲ့ ကျောင်းသူ ဆိုရင် distance 1 ရှိပါတယ်။<br>\n",
    "character level နဲ့ စစ်ရင် distance က 2 ဖြစ်ပါမယ်\n",
    "<h4>Typographic Error</h4>"
   ]
  },
  {
   "cell_type": "code",
   "execution_count": 1,
   "metadata": {},
   "outputs": [],
   "source": [
    "import numpy as np\n",
    "#Levenstein Distance Algorithm\n",
    "def levenshtein(seq1, seq2):  \n",
    "    size_x = len(seq1) + 1\n",
    "    size_y = len(seq2) + 1\n",
    "    #draw matrix\n",
    "    matrix = np.zeros ((size_x, size_y))\n",
    "    for x in range(size_x):\n",
    "        matrix [x, 0] = x\n",
    "    for y in range(size_y):\n",
    "        matrix [0, y] = y\n",
    "    #compute\n",
    "    for x in range(1, size_x):\n",
    "        for y in range(1, size_y):\n",
    "            if seq1[x-1] == seq2[y-1]:     \n",
    "                edit = 0                    \n",
    "            else:\n",
    "                edit = 1\n",
    "            \n",
    "            x1y = matrix[x-1,y] + 1         #[x - 1, y]\n",
    "            x1y1 = matrix[x-1,y-1] + edit   #[x - 1, y - 1]\n",
    "            xy1 = matrix[x,y-1] + 1         #[x, y - 1]\n",
    "            matrix [x,y] = np.min([x1y,x1y1,xy1])\n",
    "    #print(matrix)\n",
    "    seq1=[]\n",
    "    seq2=[]\n",
    "    return (matrix[size_x - 1, size_y - 1])"
   ]
  },
  {
   "cell_type": "code",
   "execution_count": 2,
   "metadata": {},
   "outputs": [],
   "source": [
    "#Sylbreak with Regularization\n",
    "#Author Sayar Ye Kyaw Thu => Sylbreak\n",
    "import re\n",
    "\n",
    "myConsonant = \"က-အ\"\n",
    "otherChar = \"ဣဤဥဦဧဩဪဿ၌၍၏၀-၉၊။!-/:-@[-`{-~\\s\"\n",
    "ssSymbol = '္'\n",
    "ngaThat = 'င်'\n",
    "aThat = '်'\n",
    "\n",
    "BreakPattern = re.compile(r\"((?<!\" + ssSymbol + r\")[\"+ myConsonant + r\"](?![\" + aThat + ssSymbol + r\"])\" + r\"|[\" + otherChar + r\"])\", re.UNICODE)\n",
    "\n",
    "def sylbreak(line):\n",
    "       line = re.sub(r\"\\s+\",\"\", line)\n",
    "       line = BreakPattern.sub(r\" \" + r\"\\1\", line)\n",
    "       return line"
   ]
  },
  {
   "cell_type": "markdown",
   "metadata": {},
   "source": [
    "<h5>Load Dictionary</h5>"
   ]
  },
  {
   "cell_type": "code",
   "execution_count": 8,
   "metadata": {},
   "outputs": [],
   "source": [
    " w_list = [\"ကျောင်းကား\",\"ကျောင်းသား\",\"သို့\",\"သွား\",\"သည်\"]\n",
    "#Load dictionary\n",
    "#w_list = []\n",
    "#with open(\"dict.txt\",\"r\",encoding='utf8') as file:\n",
    "    #for line in file:\n",
    "      #  w_list.append(line)"
   ]
  },
  {
   "cell_type": "markdown",
   "metadata": {},
   "source": [
    "<h5> Word Segmentation</h5>"
   ]
  },
  {
   "cell_type": "code",
   "execution_count": 4,
   "metadata": {},
   "outputs": [],
   "source": [
    "def seg(sentence):\n",
    "    #Declare word lists for lists of length j\n",
    "    ls = sylbreak(sentence)\n",
    "    ls = ls.strip(\" \")\n",
    "    ls = ls.split(\" \")\n",
    "    length = len(ls)\n",
    "\n",
    "    #print(length)\n",
    "    pos = 0\n",
    "    result = []\n",
    "    while length >0:\n",
    "        for j in range(len(w_list)-1,0,-1):\n",
    "            if w_list[j] != []:\n",
    "                #print( \"\".join(ls[pos:pos+j]))\n",
    "                if \"\".join(ls[pos:pos+j]) in w_list[j]:\n",
    "                    #print(\"found\",j,pos)\n",
    "                    result.append(\"\".join(ls[pos:pos+j]))\n",
    "                    #print(sentence[pos:pos+(j-1)])\n",
    "                    pos = pos + j\n",
    "                    length = length - j\n",
    "                    break \n",
    "                elif j==1:\n",
    "                    result.append(\"\".join(ls[pos:pos+j]))\n",
    "                    pos = pos + j\n",
    "                    length = length - j\n",
    "                    break\n",
    "\n",
    "    return result"
   ]
  },
  {
   "cell_type": "code",
   "execution_count": null,
   "metadata": {},
   "outputs": [],
   "source": []
  },
  {
   "cell_type": "code",
   "execution_count": 5,
   "metadata": {},
   "outputs": [],
   "source": [
    "input = \"ကျောင်းသူ\"\n",
    "input_seg = seg(input)"
   ]
  },
  {
   "cell_type": "code",
   "execution_count": 6,
   "metadata": {},
   "outputs": [],
   "source": [
    "from difflib import get_close_matches \n",
    "similar_list = get_close_matches(input,w_list)\n"
   ]
  },
  {
   "cell_type": "code",
   "execution_count": 7,
   "metadata": {},
   "outputs": [
    {
     "name": "stdout",
     "output_type": "stream",
     "text": [
      "Suggestion {'ကျောင်းသား': 1.0, 'ကျောင်းကား': 1.0}\n"
     ]
    }
   ],
   "source": [
    "correct = False\n",
    "sug = {}\n",
    "for i in similar_list:\n",
    "   \n",
    "    dic = seg(i)\n",
    "    distance = levenshtein(dic,input_seg)\n",
    "    if distance ==0.0:\n",
    "        correct = True \n",
    "        print(\"Correct\")\n",
    "        break\n",
    "    else:\n",
    "        sug[i] = distance\n",
    "        correct = False\n",
    "\n",
    "if correct == False:\n",
    "    print(\"Suggestion\",sug)"
   ]
  },
  {
   "cell_type": "code",
   "execution_count": null,
   "metadata": {},
   "outputs": [],
   "source": []
  },
  {
   "cell_type": "code",
   "execution_count": null,
   "metadata": {},
   "outputs": [],
   "source": []
  }
 ],
 "metadata": {
  "kernelspec": {
   "display_name": "Python 3",
   "language": "python",
   "name": "python3"
  },
  "language_info": {
   "codemirror_mode": {
    "name": "ipython",
    "version": 3
   },
   "file_extension": ".py",
   "mimetype": "text/x-python",
   "name": "python",
   "nbconvert_exporter": "python",
   "pygments_lexer": "ipython3",
   "version": "3.7.5"
  }
 },
 "nbformat": 4,
 "nbformat_minor": 2
}
